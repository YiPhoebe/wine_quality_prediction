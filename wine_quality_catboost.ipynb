{
 "cells": [
  {
   "cell_type": "code",
   "execution_count": 1,
   "metadata": {},
   "outputs": [],
   "source": [
    "import numpy as np\n",
    "import pandas as pd\n",
    "from sklearn.decomposition import PCA\n",
    "from sklearn.cluster import KMeans\n",
    "from sklearn.preprocessing import StandardScaler\n",
    "from sklearn.model_selection import train_test_split\n",
    "from sklearn.metrics import mean_squared_error, r2_score\n",
    "from catboost import CatBoostRegressor\n",
    "from sklearn.feature_selection import SelectKBest, f_regression\n",
    "\n",
    "# ✅ 데이터 로드\n",
    "df = pd.read_csv(\"winequality-red.csv\")\n",
    "\n",
    "# ✅ 컬럼명 정리 (공백 제거)\n",
    "df.columns = df.columns.str.replace(' ', '_')\n",
    "\n",
    "# ✅ 로그 변환 (NaN 방지)\n",
    "log_features = ['alcohol', 'volatile_acidity', 'sulphates', 'chlorides', 'residual_sugar']\n",
    "for feature in log_features:\n",
    "    df[feature] = np.where(df[feature] > 0, np.log1p(df[feature]), 0)\n",
    "\n",
    "# ✅ 새로운 Feature 생성 (변수 조합)\n",
    "df['alcohol_sulphates'] = df['alcohol'] * df['sulphates']\n",
    "df['volatile_citric'] = df['volatile_acidity'] * df['citric_acid']\n",
    "\n",
    "# ✅ 나누기 연산 방지 (0으로 나누는 것 방지)\n",
    "df['fixed_density'] = np.where(df['density'] > 0, df['fixed_acidity'] / df['density'], 0)\n",
    "df['chloride_sulfur_ratio'] = np.where(df['total_sulfur_dioxide'] > 0, df['chlorides'] / df['total_sulfur_dioxide'], 0)\n",
    "\n",
    "# ✅ 제곱 및 제곱근 변환 (NaN 방지)\n",
    "df['sulphates_sq'] = df['sulphates'] ** 2\n",
    "df['sqrt_total_sulfur'] = np.sqrt(np.abs(df['total_sulfur_dioxide']))\n",
    "\n",
    "# ✅ Inf 및 NaN 처리\n",
    "df.replace([np.inf, -np.inf], np.nan, inplace=True)\n",
    "df.dropna(inplace=True)  # NaN이 포함된 행 제거"
   ]
  },
  {
   "cell_type": "code",
   "execution_count": 2,
   "metadata": {},
   "outputs": [
    {
     "name": "stdout",
     "output_type": "stream",
     "text": [
      "📌 선택된 Feature: Index(['volatile_acidity', 'citric_acid', 'chlorides', 'total_sulfur_dioxide',\n",
      "       'density', 'sulphates', 'alcohol', 'alcohol_sulphates', 'sulphates_sq',\n",
      "       'sqrt_total_sulfur'],\n",
      "      dtype='object')\n"
     ]
    }
   ],
   "source": [
    "# ✅ Feature Selection (상위 10개 변수 선택)\n",
    "k_best = SelectKBest(score_func=f_regression, k=10)\n",
    "X_selected = k_best.fit_transform(df.drop(columns=['quality']), df['quality'])\n",
    "\n",
    "# ✅ 선택된 Feature 출력\n",
    "selected_features = df.drop(columns=['quality']).columns[k_best.get_support()]\n",
    "print(f\"📌 선택된 Feature: {selected_features}\")\n",
    "\n",
    "# ✅ Feature Scaling (표준화)\n",
    "scaler = StandardScaler()\n",
    "df[selected_features] = scaler.fit_transform(df[selected_features])"
   ]
  },
  {
   "cell_type": "code",
   "execution_count": 3,
   "metadata": {},
   "outputs": [],
   "source": [
    "X = df[selected_features]\n",
    "y = df[\"quality\"]\n",
    "X_train, X_test, y_train, y_test = train_test_split(X, y, test_size=0.2, random_state=42)"
   ]
  },
  {
   "cell_type": "code",
   "execution_count": 4,
   "metadata": {},
   "outputs": [
    {
     "name": "stdout",
     "output_type": "stream",
     "text": [
      "🔹 기본 CatBoost 모델 MSE: 0.3181, R²: 0.5133\n"
     ]
    }
   ],
   "source": [
    "# ✅ 기본 CatBoost 모델 학습\n",
    "catboost_model = CatBoostRegressor(\n",
    "    iterations=500, \n",
    "    learning_rate=0.05, \n",
    "    depth=10, \n",
    "    random_state=42, \n",
    "    verbose=0\n",
    ")\n",
    "catboost_model.fit(X_train, y_train)\n",
    "\n",
    "# ✅ 모델 평가\n",
    "y_pred_cat = catboost_model.predict(X_test)\n",
    "cat_mse = mean_squared_error(y_test, y_pred_cat)\n",
    "cat_r2 = r2_score(y_test, y_pred_cat)\n",
    "\n",
    "print(f\"🔹 기본 CatBoost 모델 MSE: {cat_mse:.4f}, R²: {cat_r2:.4f}\")"
   ]
  },
  {
   "cell_type": "code",
   "execution_count": 5,
   "metadata": {},
   "outputs": [
    {
     "name": "stdout",
     "output_type": "stream",
     "text": [
      "[LightGBM] [Info] Auto-choosing col-wise multi-threading, the overhead of testing was 0.000099 seconds.\n",
      "You can set `force_col_wise=true` to remove the overhead.\n",
      "[LightGBM] [Info] Total Bins 1210\n",
      "[LightGBM] [Info] Number of data points in the train set: 1279, number of used features: 10\n",
      "[LightGBM] [Info] Start training from score 5.623925\n",
      "[LightGBM] [Info] Auto-choosing col-wise multi-threading, the overhead of testing was 0.029690 seconds.\n",
      "You can set `force_col_wise=true` to remove the overhead.\n",
      "[LightGBM] [Info] Total Bins 1157\n",
      "[LightGBM] [Info] Number of data points in the train set: 1023, number of used features: 10\n",
      "[LightGBM] [Info] Start training from score 5.627566\n",
      "[LightGBM] [Info] Auto-choosing col-wise multi-threading, the overhead of testing was 0.000099 seconds.\n",
      "You can set `force_col_wise=true` to remove the overhead.\n",
      "[LightGBM] [Info] Total Bins 1159\n",
      "[LightGBM] [Info] Number of data points in the train set: 1023, number of used features: 10\n",
      "[LightGBM] [Info] Start training from score 5.641251\n",
      "[LightGBM] [Info] Auto-choosing col-wise multi-threading, the overhead of testing was 0.000100 seconds.\n",
      "You can set `force_col_wise=true` to remove the overhead.\n",
      "[LightGBM] [Info] Total Bins 1165\n",
      "[LightGBM] [Info] Number of data points in the train set: 1023, number of used features: 10\n",
      "[LightGBM] [Info] Start training from score 5.596285\n",
      "[LightGBM] [Info] Auto-choosing col-wise multi-threading, the overhead of testing was 0.000100 seconds.\n",
      "You can set `force_col_wise=true` to remove the overhead.\n",
      "[LightGBM] [Info] Total Bins 1163\n",
      "[LightGBM] [Info] Number of data points in the train set: 1023, number of used features: 10\n",
      "[LightGBM] [Info] Start training from score 5.629521\n",
      "[LightGBM] [Info] Auto-choosing col-wise multi-threading, the overhead of testing was 0.000101 seconds.\n",
      "You can set `force_col_wise=true` to remove the overhead.\n",
      "[LightGBM] [Info] Total Bins 1159\n",
      "[LightGBM] [Info] Number of data points in the train set: 1024, number of used features: 10\n",
      "[LightGBM] [Info] Start training from score 5.625000\n",
      "🔹 개선된 Stacking 적용 후 MSE: 0.3167, R²: 0.5154\n"
     ]
    }
   ],
   "source": [
    "from sklearn.linear_model import Ridge\n",
    "from sklearn.ensemble import StackingRegressor\n",
    "from xgboost import XGBRegressor\n",
    "from lightgbm import LGBMRegressor\n",
    "from sklearn.ensemble import RandomForestRegressor\n",
    "\n",
    "# ✅ Base 모델 조합\n",
    "base_models = [\n",
    "    ('ridge', Ridge(alpha=1.0)),\n",
    "    ('rf', RandomForestRegressor(n_estimators=100, random_state=42)),\n",
    "    ('xgb', XGBRegressor(n_estimators=100, learning_rate=0.05, random_state=42)),\n",
    "    ('lgbm', LGBMRegressor(n_estimators=100, learning_rate=0.05, random_state=42))\n",
    "]\n",
    "\n",
    "# ✅ Meta-learner 적용\n",
    "stacking_model = StackingRegressor(estimators=base_models, final_estimator=Ridge(alpha=1.0))\n",
    "\n",
    "# ✅ 학습\n",
    "stacking_model.fit(X_train, y_train)\n",
    "\n",
    "# ✅ 예측 및 평가\n",
    "y_pred_stacking = stacking_model.predict(X_test)\n",
    "stacking_mse = mean_squared_error(y_test, y_pred_stacking)\n",
    "stacking_r2 = r2_score(y_test, y_pred_stacking)\n",
    "\n",
    "print(f\"🔹 개선된 Stacking 적용 후 MSE: {stacking_mse:.4f}, R²: {stacking_r2:.4f}\")"
   ]
  },
  {
   "cell_type": "code",
   "execution_count": 6,
   "metadata": {},
   "outputs": [
    {
     "name": "stdout",
     "output_type": "stream",
     "text": [
      "\n",
      "📌 최종 모델 성능 비교:\n",
      "🔹 기본 CatBoost - MSE: 0.3181, R²: 0.5133\n",
      "🔹 개선된 Stacking - MSE: 0.3167, R²: 0.5154\n"
     ]
    }
   ],
   "source": [
    "print(\"\\n📌 최종 모델 성능 비교:\")\n",
    "print(f\"🔹 기본 CatBoost - MSE: {cat_mse:.4f}, R²: {cat_r2:.4f}\")\n",
    "print(f\"🔹 개선된 Stacking - MSE: {stacking_mse:.4f}, R²: {stacking_r2:.4f}\")"
   ]
  }
 ],
 "metadata": {
  "kernelspec": {
   "display_name": "wine_q",
   "language": "python",
   "name": "python3"
  },
  "language_info": {
   "codemirror_mode": {
    "name": "ipython",
    "version": 3
   },
   "file_extension": ".py",
   "mimetype": "text/x-python",
   "name": "python",
   "nbconvert_exporter": "python",
   "pygments_lexer": "ipython3",
   "version": "3.12.9"
  }
 },
 "nbformat": 4,
 "nbformat_minor": 2
}
